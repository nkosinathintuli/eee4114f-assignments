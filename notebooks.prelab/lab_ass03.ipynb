{
 "cells": [
  {
   "cell_type": "markdown",
   "id": "ca6d06c6-103b-49c1-8cab-8375951e1382",
   "metadata": {},
   "source": [
    "## EEE4114F: Computer assignment 3 ##"
   ]
  },
  {
   "cell_type": "markdown",
   "id": "1bdf18cc-2f68-4ea7-a856-a5e5abf1129d",
   "metadata": {},
   "source": [
    "This assignment explores the process of digital filtering on audio\n",
    "signals. If possible, you should use a computer with a sound card and\n",
    "either speakers or earphones. The discussion is based around Python with `numpy`, but\n",
    "with minor changes you should be able to translate it into the\n",
    "programming language of your choice.\n",
    "\n",
    "You will need a clip of single-channel digitised sound, sampled at a\n",
    "known rate. An instance of Handel’s Messiah sampled at 8192 Hz is provided\n",
    "with this assignment in the file \"handel8192.txt\".  It has one text-valued\n",
    "real sample per line (which is an awful way of distributing binary data) and can be loaded using the command\n",
    "\n",
    "> `y = np.loadtxt('handel8192.txt')`\n",
    "\n",
    "if the file is on your path.  The data is loaded into the variable `y`.  You can play on the sound device using\n",
    "\n",
    "> `import sounddevice as sd`\n",
    "> `sd.play(y,8192)`\n",
    "\n",
    "if you have successfully installed `python-sounddevice`."
   ]
  },
  {
   "cell_type": "code",
   "execution_count": 3,
   "id": "434f0199-a213-49db-98f0-2955c2d2b25d",
   "metadata": {},
   "outputs": [],
   "source": [
    "import numpy as np\n",
    "import sounddevice as sd\n",
    "\n",
    "fs = 8192  # sampling frequency for clip\n",
    "y = np.loadtxt('handel8192.txt')\n",
    "sd.play(y,fs)"
   ]
  },
  {
   "cell_type": "markdown",
   "id": "561047ad-5fc3-41be-97fd-9170da20bc55",
   "metadata": {},
   "source": [
    "# Feel free to use other sources if you like — it’s instructive to find\n",
    "out how to load data into different software packages and libraries.\n",
    "\n",
    "You will also need a filter design tool. These often cost money. If\n",
    "your PC has the MATLAB signal processing toolbox installed, there’s a\n",
    "GUI-based design tool called `fdatool`. Similar functionality is in the Python GUI tool `pyFDA` (https://pypi.org/project/pyfda).  The `scipy` package has some relevant functionality in `scipy.signal.firls`, for example. Design packages can often export filter coefficients to C, but you can also just cut and paste them into a file as needed."
   ]
  },
  {
   "cell_type": "markdown",
   "id": "2e4570c4-2fff-4a68-902d-2eb2aa266757",
   "metadata": {},
   "source": [
    "1.  **Simple highpass filter from lowpass prototype:** Some filter\n",
    "    design packages only let you design a lowpass filter as a prototype.\n",
    "    Even if your package lets you design a highpass filter directly, for\n",
    "    this task you should only use the lowpass design functionality.\n",
    "\n",
    "    Suppose the frequency response of a lowpass filter is\n",
    "    $H_{lp}(e^{j \\omega})$. If this is a reasonable filter with cutoff\n",
    "    $\\omega_0$ then it should have unity gain when\n",
    "    $|\\omega| \\leq \\omega_0$ and zero gain otherwise. The filter with\n",
    "    response $$H_{hp}(e^{j \\omega}) = 1 - H_{lp}(e^{j \\omega})$$ should\n",
    "    then be a highpass filter with approximate response\n",
    "    $$H_{hp}(e^{j \\omega}) \\approx \\begin{cases} 0 \\quad & |\\omega|<\\omega_0 \\\\ 1 \\quad & \\text{otherwise}. \\end{cases}$$\n",
    "    The impulse responses then satisfy\n",
    "    $h_{hp}[n] = \\delta[n] - h_{lp}[n]$.\n",
    "\n",
    "    Design a lowpass filter with a cutoff of $\\omega_0 = \\pi/2$. This\n",
    "    will give you an impulse response $h_{lp}[n]$ with values in\n",
    "    `impresplp` that implements the filter via convolution. The\n",
    "    corresponding `impresphp` that implements a highpass filter, which\n",
    "    here will have a cutoff $\\omega_0 = \\pi/2$, can be obtained from\n",
    "    `impresplp` using the formula above."
   ]
  },
  {
   "cell_type": "markdown",
   "id": "8f94c022-2a38-43dd-8679-17507d7f4ecf",
   "metadata": {},
   "source": [
    "2.  **Highpass filter from lowpass prototype via frequency shifting:**\n",
    "\n",
    "    Suppose the frequency response of a lowpass filter is\n",
    "    $H_{lp}(e^{j \\omega})$. The frequency shift property states that\n",
    "    $$e^{j \\omega_0 n} x[n] \\quad \\Longleftrightarrow \\quad H(e^{j(\\omega-\\omega_0)}),$$\n",
    "    which for $\\omega_0 = \\pi$ means that\n",
    "    $$e^{j \\pi n} x[n] = (-1)^n x[n] \\quad \\Longleftrightarrow \\quad H(e^{j(\\omega-\\pi)}).$$\n",
    "    If we define the highpass filter\n",
    "    $H_{hp}(e^{j \\omega}) = H_{lp}(e^{j (\\omega-\\pi)})$ using frequency\n",
    "    shifting then the corresponding highpass filter impulse response is\n",
    "    $h_{hp}[n] = (-1)^n h_{lp}[n]$. For $h_{lp}[n]$ real the impulse\n",
    "    response $h_{hp}[n]$ will still be real, and its values can be\n",
    "    obtained from $h_{lp}[n]$ by simply changing the sign of every\n",
    "    alternate value.\n",
    "\n",
    "    Design a lowpass filter with a cutoff of $\\omega_0 = \\pi/2$. This\n",
    "    will give you an impulse response $h_{lp}[n]$ with values in\n",
    "    `impresplp` that implements the filter via convolution. The\n",
    "    corresponding `impresphp` that implements a highpass filter, which\n",
    "    here will have a cutoff $\\omega_0 = \\pi - \\pi/2 = \\pi/2$, can be\n",
    "    obtained from `impresphp` by switching signs as explained above."
   ]
  },
  {
   "cell_type": "markdown",
   "id": "906c6424-a70b-4e76-87b9-e466df4beeef",
   "metadata": {},
   "source": [
    "3.  **Filter out narrow-band interference:** Create a corrupted signal\n",
    "    by adding a sinusoid with frequency $\\omega_0 = \\pi/4$:\n",
    "\n",
    "    > `yc = y + a0*np.sin(np.pi/4*np.arange(len(y)))`\n",
    "\n",
    "    where say `a0 = 1` is some scale factor. Since the sampling frequency 8192\n",
    "    Hz corresponds to $\\omega = 2 \\pi$, the above sinusoid with angular\n",
    "    frequency $\\omega_0 =\\pi/4$ corresponds to a 1024 Hz interference\n",
    "    component. You can listen to the sample:\n",
    "\n",
    "    > `sd.play(yc,8192)`\n",
    "\n",
    "    Use a filter design tool to find the impulse response `impresp` of a\n",
    "    bandstop filter for nulling this interference. The filtered output\n",
    "    signal can be calculated using\n",
    "\n",
    "    > `ycf = np.convolve(yc,impresp)`\n",
    "\n",
    "    which you can also listen to using the `sd.play` command. Note that\n",
    "    while this eliminates the interfering tone, it also nulls the signal\n",
    "    in the stop band of the filter.\n",
    "\n",
    "    The signals `ycf` and `yc` above are *not* generally the same size — what’s\n",
    "    going on?"
   ]
  },
  {
   "cell_type": "code",
   "execution_count": null,
   "id": "ae01725a-4de2-4a18-8200-ee3d68417777",
   "metadata": {},
   "outputs": [],
   "source": [
    "# Create corrupted signal\n",
    "w0 = np.pi/4\n",
    "a0 = 1\n",
    "yc = y + a0*np.sin(np.pi/4*np.arange(len(y)))\n",
    "\n",
    "# Find impresp below\n",
    "impresp = np.array((0,0,0,1,0,0,0)) # simple delay for now\n",
    "\n",
    "# Generate output\n",
    "ycf = np.convolve(yc,impresp)\n",
    "sd.play(ycf,fs)"
   ]
  },
  {
   "cell_type": "markdown",
   "id": "e7037f48-d424-494f-863d-282594a9f8d8",
   "metadata": {},
   "source": [
    "4.  **Filter out 200 Hz interference:** Create a signal corrupted by 200\n",
    "    Hz interference, and make a highpass filter to remove it. This turns\n",
    "    out to be a very long FIR filter, or a fairly short IIR filter. You\n",
    "    may wish to explore both options. However, the IIR filter does not\n",
    "    have linear phase.\n",
    "\n",
    "    **Note:** using a FIR filter to remove 50 Hz interference is even\n",
    "    harder (try it!). The reason 200 Hz was chosen in this experiment is\n",
    "    because 50 Hz is too low for our ears to hear (or for the soundcard\n",
    "    to play)."
   ]
  },
  {
   "cell_type": "markdown",
   "id": "dd0cc3ff-e602-49c3-9423-99c86e0bff86",
   "metadata": {},
   "source": [
    "5.  **Downsampling:** The sound clip is sampled at 8192 samples per\n",
    "    second. To reduce the sampling rate by a factor of 2 (to give a 4192\n",
    "    Hz sample), you need to filter out all content above $4192/2 = 2048$\n",
    "    Hz and then discard every second sample. This cutoff frequency\n",
    "    corresponds to $\\omega = \\pi/2$ in the angular frequency domain.\n",
    "\n",
    "    Use a filter design tool to find the impulse response `impresp` of a\n",
    "    lowpass filter with the required cutoff of $\\omega = \\pi/2$. The\n",
    "    filtered output signal can be found using\n",
    "\n",
    "    > `y_lp = np.convolve(y,impresp,'same');`\n",
    "\n",
    "    and the resulting decimated signal is\n",
    "\n",
    "    > `yd2 = y_lp[::2]`\n",
    "\n",
    "    The signal `yd2` is now effectively sampled at 4192 Hz. You can\n",
    "    compare the sound of the properly downsampled version of the signal\n",
    "    to the aliased version:\n",
    "\n",
    "    > `sd.play(yd2,4192)` versus `sd.play(y[::2],4192)`\n",
    "\n",
    "    Applying *the same* lowpass filter as before to the downsampled data\n",
    "    using\n",
    "\n",
    "    > `y_lp = np.convolve(yd2,impresp)`\n",
    "\n",
    "    eliminates all frequencies below 1024 Hz (because the actual cutoff\n",
    "    frequency of the filter depends on the sampling rate!), so we can\n",
    "    decimate again by a factor of two without aliasing:\n",
    "\n",
    "    > `yd4 = y_lp[::2]`\n",
    "\n",
    "    This signal is effectively sampled at 2048 Hz. You can again compare\n",
    "    the sound of good and bad downsampling:\n",
    "\n",
    "    > `sd.play(yd4,2048)` versus `sd.play(y[::4],2048)`.\n",
    "\n",
    "    Create plots of the frequency response magnitude and phase of the appropriate lowpass filter."
   ]
  },
  {
   "cell_type": "markdown",
   "id": "4b16345d-6438-4961-b4ca-5eb49fe7db57",
   "metadata": {},
   "source": [
    "6.  **Upsampling:** The sound clip is sampled at 8192 Hz. To convert it\n",
    "    to a 16384 Hz signal which can be played using\n",
    "\n",
    "    > `sd.play(xxx,16384)`\n",
    "\n",
    "    it needs to be upsampled by a factor of 2. Create the expanded\n",
    "    signal `yexp` by inserting zeros into the signal between the samples\n",
    "\n",
    "    > `yexp = np.zeros((2*len(y),));  yexp[0::2] = y`\n",
    "\n",
    "    and lowpass filter it with an appropriate impulse response `impresp`\n",
    "    to eliminate the replicas:\n",
    "\n",
    "    > `yu2 = np.convolve(yexp,impresp);`\n",
    "\n",
    "    You can listen to the upsampled signal `yu2` (while it has more\n",
    "    samples it contains no more information than the original 8192 Hz\n",
    "    sample), and you can hear the effect of the replicas by listening to\n",
    "    the intermediate expanded signal `yexp`."
   ]
  },
  {
   "cell_type": "markdown",
   "id": "42a14256-91c8-446e-92a7-ab6bf11055d3",
   "metadata": {},
   "source": [
    "7.  **Hardware implementation:** (optional) Implement a simple filter on\n",
    "    a microprocessor like the STM32F. In the simplest instance you could\n",
    "    configure an ADC to raise an interrupt when a new input sample is\n",
    "    available. The ISR would then take this new value along with a ring\n",
    "    buffer of previous stored inputs, calculate the convolution result\n",
    "    for the current time instant by weighting the samples with the\n",
    "    impulse response values and summing, write the result to a DAC, and\n",
    "    update the ring buffer with the latest sample value.\n",
    "\n",
    "    As described this would be a naive time-domain implementation of the\n",
    "    convolution operation, which is often all that is required."
   ]
  },
  {
   "cell_type": "code",
   "execution_count": null,
   "id": "ad7c0b5a-ed84-4924-a5e4-52f89deead6d",
   "metadata": {},
   "outputs": [],
   "source": []
  }
 ],
 "metadata": {
  "kernelspec": {
   "display_name": "Python 3 (ipykernel)",
   "language": "python",
   "name": "python3"
  },
  "language_info": {
   "codemirror_mode": {
    "name": "ipython",
    "version": 3
   },
   "file_extension": ".py",
   "mimetype": "text/x-python",
   "name": "python",
   "nbconvert_exporter": "python",
   "pygments_lexer": "ipython3",
   "version": "3.11.5"
  }
 },
 "nbformat": 4,
 "nbformat_minor": 5
}
