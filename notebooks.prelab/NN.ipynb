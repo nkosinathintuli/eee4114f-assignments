{
 "cells": [
  {
   "cell_type": "code",
   "execution_count": 2,
   "id": "be70b3fe-be32-4b58-84c5-ed614a309b53",
   "metadata": {},
   "outputs": [],
   "source": [
    "import numpy as np\n",
    "import matplotlib.pyplot as plt\n",
    "from sklearn.datasets import make_regression"
   ]
  },
  {
   "cell_type": "code",
   "execution_count": 48,
   "id": "5e286ec9-f2bd-47ac-93f8-75bb07930fc2",
   "metadata": {},
   "outputs": [],
   "source": [
    "X, Y = make_regression(n_samples=100, n_features=2, n_targets=2,noise=1, random_state=42)"
   ]
  },
  {
   "cell_type": "code",
   "execution_count": 49,
   "id": "cd91e493-30e6-47f7-b84c-04c0a8cf793b",
   "metadata": {},
   "outputs": [],
   "source": [
    "x = X[0].reshape(-1,1)\n",
    "y = Y[0].reshape(-1,1)"
   ]
  },
  {
   "cell_type": "code",
   "execution_count": 50,
   "id": "661c1de2-b175-4d6e-8e02-03108b9eb503",
   "metadata": {},
   "outputs": [],
   "source": [
    "w_1 = np.matrix(\n",
    "    [[-0.5,0.5],\n",
    "    [-0.5,0.5]]\n",
    ")\n",
    "\n",
    "w_2 = np.random.randn(2,2) # (n_features x n_neurons)\n",
    "w_2 = w_1\n",
    "\n",
    "b_1 = np.array([[-1],[-1]]) \n",
    "b_2 = np.array([[1],[1]])"
   ]
  },
  {
   "cell_type": "code",
   "execution_count": 51,
   "id": "0447762f-ba94-4746-9555-ac23f0097099",
   "metadata": {},
   "outputs": [
    {
     "data": {
      "text/plain": [
       "<matplotlib.image.AxesImage at 0x7fe89d9093d0>"
      ]
     },
     "execution_count": 51,
     "metadata": {},
     "output_type": "execute_result"
    },
    {
     "data": {
      "image/png": "[encoded data removed]",
      "text/plain": [
       "<Figure size 480x480 with 1 Axes>"
      ]
     },
     "metadata": {},
     "output_type": "display_data"
    }
   ],
   "source": [
    "plt.matshow(w_1)\n",
    "#for (i,j), z in np.enumarte(w_2):\n",
    "#plt.plot()\n",
    "    "
   ]
  },
  {
   "cell_type": "code",
   "execution_count": 52,
   "id": "4a5e4299-5459-4d4a-ba4f-26dda8918609",
   "metadata": {},
   "outputs": [],
   "source": [
    "# activation function\n",
    "def sigmoid(z):\n",
    "    return 1./(1.+np.exp(-z))"
   ]
  },
  {
   "cell_type": "code",
   "execution_count": 53,
   "id": "057d96fa-3128-4871-805d-daa06c5375db",
   "metadata": {},
   "outputs": [],
   "source": [
    "def sigmoid_prime(z):\n",
    "    return np.multiply(sigmoid(z),(1-sigmoid(z)))"
   ]
  },
  {
   "cell_type": "code",
   "execution_count": 54,
   "id": "46d5e251-71b6-47cc-afc2-fea5e91ff0e0",
   "metadata": {},
   "outputs": [],
   "source": [
    "# cost function\n",
    "def J(y_hat,y):\n",
    "    return 0.5 * np.square((y_hat-y))"
   ]
  },
  {
   "cell_type": "code",
   "execution_count": 55,
   "id": "80878064-b75f-422d-9680-3411edf548fa",
   "metadata": {},
   "outputs": [],
   "source": [
    "def J_derivative(y_hat,y):\n",
    "    return y_hat - y"
   ]
  },
  {
   "cell_type": "code",
   "execution_count": 56,
   "id": "aecec0a4-0226-44a9-b650-0c784ed0c247",
   "metadata": {},
   "outputs": [
    {
     "data": {
      "text/plain": [
       "matrix([[-0.73262506],\n",
       "        [-1.26737494]])"
      ]
     },
     "execution_count": 56,
     "metadata": {},
     "output_type": "execute_result"
    }
   ],
   "source": [
    "z_1"
   ]
  },
  {
   "cell_type": "code",
   "execution_count": 71,
   "id": "b9c51290-22da-41ca-aa12-a6d87adbd700",
   "metadata": {},
   "outputs": [],
   "source": [
    "def forward_pass(x):\n",
    "    z_1 = np.dot(w_1.T,x)+b_1\n",
    "    a_1 = sigmoid(z_1)\n",
    "    z_2 = np.dot(w_2.T,x)+b_2\n",
    "    a_2 = sigmoid(z_2)\n",
    "    return a_2"
   ]
  },
  {
   "cell_type": "code",
   "execution_count": 72,
   "id": "41655dee-e667-4ae4-ba5f-bfece39a156e",
   "metadata": {},
   "outputs": [],
   "source": [
    "z_1 = np.dot(w_1.T,x)+b_1\n",
    "a_1 = sigmoid(z_1)\n",
    "z_2 = np.dot(w_2.T,x)+b_2\n",
    "a_2 = sigmoid(z_2)"
   ]
  },
  {
   "cell_type": "code",
   "execution_count": 73,
   "id": "79bdd8e2-ce69-473d-b426-d1d84a3240eb",
   "metadata": {},
   "outputs": [],
   "source": [
    "y_hat = a_2"
   ]
  },
  {
   "cell_type": "code",
   "execution_count": 74,
   "id": "9af5d3e6-bad3-4183-9508-81e33df62366",
   "metadata": {},
   "outputs": [],
   "source": [
    "MSE = J(y_hat,y).mean()"
   ]
  },
  {
   "cell_type": "code",
   "execution_count": 75,
   "id": "cc37aed4-051d-497e-820a-f3f86074531d",
   "metadata": {},
   "outputs": [
    {
     "data": {
      "text/plain": [
       "matrix([[-137.41736998],\n",
       "        [-134.40236096]])"
      ]
     },
     "execution_count": 75,
     "metadata": {},
     "output_type": "execute_result"
    }
   ],
   "source": [
    "J_derivative(y_hat,y)"
   ]
  },
  {
   "cell_type": "code",
   "execution_count": 76,
   "id": "4bf35531-8c37-40cf-8bab-2cd09a094de0",
   "metadata": {},
   "outputs": [
    {
     "data": {
      "text/plain": [
       "matrix([[0.24984204],\n",
       "        [0.10906307]])"
      ]
     },
     "execution_count": 76,
     "metadata": {},
     "output_type": "execute_result"
    }
   ],
   "source": [
    "sigmoid_prime(z_2)"
   ]
  },
  {
   "cell_type": "code",
   "execution_count": 77,
   "id": "1c9571f1-7fbf-4c2d-bbb1-919d5dc5522e",
   "metadata": {},
   "outputs": [],
   "source": [
    "delta_2 = np.multiply(J_derivative(y_hat,y),sigmoid_prime(z_2))"
   ]
  },
  {
   "cell_type": "code",
   "execution_count": 81,
   "id": "d5f92dde-d757-4801-99a0-76441bb57fd3",
   "metadata": {},
   "outputs": [
    {
     "data": {
      "text/plain": [
       "matrix([[ -4.27730805, -16.73481391],\n",
       "        [ -1.82619852,  -7.14493605]])"
      ]
     },
     "execution_count": 81,
     "metadata": {},
     "output_type": "execute_result"
    }
   ],
   "source": [
    "nabla_2 = np.dot(delta_2, a_1.T)\n",
    "nabla_2"
   ]
  },
  {
   "cell_type": "code",
   "execution_count": 82,
   "id": "64cfbb79-19da-4790-9f8e-be5878493eb1",
   "metadata": {},
   "outputs": [],
   "source": [
    "learning_rate = 0.1"
   ]
  },
  {
   "cell_type": "code",
   "execution_count": 83,
   "id": "da8df1e6-605b-4b0a-afa9-05a6f97bc331",
   "metadata": {},
   "outputs": [
    {
     "data": {
      "text/plain": [
       "matrix([[-0.0722692 ,  2.17348139],\n",
       "        [-0.31738015,  1.21449361]])"
      ]
     },
     "execution_count": 83,
     "metadata": {},
     "output_type": "execute_result"
    }
   ],
   "source": [
    "w_2 = w_2 - learning_rate*nabla_2\n",
    "w_2"
   ]
  },
  {
   "cell_type": "code",
   "execution_count": null,
   "id": "56942d54-c851-4c98-a623-3a643aac09b3",
   "metadata": {},
   "outputs": [],
   "source": []
  }
 ],
 "metadata": {
  "kernelspec": {
   "display_name": "Python [conda env:intro-ml] *",
   "language": "python",
   "name": "conda-env-intro-ml-py"
  },
  "language_info": {
   "codemirror_mode": {
    "name": "ipython",
    "version": 3
   },
   "file_extension": ".py",
   "mimetype": "text/x-python",
   "name": "python",
   "nbconvert_exporter": "python",
   "pygments_lexer": "ipython3",
   "version": "3.11.8"
  }
 },
 "nbformat": 4,
 "nbformat_minor": 5
}
