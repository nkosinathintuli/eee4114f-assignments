{
 "cells": [
  {
   "cell_type": "markdown",
   "id": "44d384b2",
   "metadata": {},
   "source": [
    "# Lab 0:  Orientation"
   ]
  },
  {
   "cell_type": "markdown",
   "id": "263f356c-0a4d-45f4-9b6e-2399ecc24b36",
   "metadata": {},
   "source": [
    "## Background\n",
    "\n",
    "This course includes a set of computer laboratories that explore topics related to digital signal processing. These will be made available to you as the course progresses.  You are expected to engage with the content and develop a reasonable level of profiency.\n",
    "\n",
    "For each laboratory you will receive a detailed set of problems upon which to develop your skills.  These are aligned with the content of the course.  Proper engagement will facilitate understanding of core concepts, but will also help you to see how to to translate theory into practice.  In principle you can work through these problems using any programming languate that supports high-level signal processing and plotting functionality.\n",
    "\n",
    "In addition, each laboratory will involve a submission in the form of a Python Jupyter notebook.  These should be simple to complete if you've worked through the problems.  Completed notebooks will be submitted to Gradescope for autograding.  To develop notebooks locally on your own machine we recommend using Anaconda (https://www.anaconda.com).\n",
    "\n",
    "Assistance will be provided during tutorial sessions as required, but it is really expected that you'll work in your own time and at your own pace: it's important right from the start for you to take responsibility for your own learning. You shouldn't be working in groups, but helping one another out on specific issues is fine. \n",
    "\n",
    "The computer labs are based on the Python programming language, and require a kernel that includes all the standard numerical libraries. They have been created as worksheets using the Jupyter notebook system, which works in a browser and allows you to interleave text and code snippets that can be run interactively. There should be no problem with you implementing the required tasks in any other Python IDE if you prefer, but in the end you'll need to put the code into a notebook file for the grading to occur.  The intention is that Gradescope will be used to autograde your submissions."
   ]
  },
  {
   "cell_type": "markdown",
   "id": "a676c430",
   "metadata": {},
   "source": [
    "## Accessing Jupyter Notebook\n",
    "We suggest installing Anaconda to get all the scientific packages you'll be needing (as well as Python3 and Jupyter) all in one go.  You can download it from https://www.continuum.io/downloads.  \n",
    "\n",
    "There is lots of help on the web for how to install Anaconda and run Jupyter on different platforms.  For example, there's a comprehensive guide at https://jupyter-notebook-beginner-guide.readthedocs.io/en/latest/index.html.  You should choose the distribution based on the Python 3 kernel.  \n",
    "\n",
    "The following packages (at least) are required to get a usable Python installation for the labs:\n",
    "- numpy\n",
    "- scipy\n",
    "- jupyter\n",
    "- otter-grader (available on channel conda-forge).\n",
    "\n",
    "You now have two ways to launch Jupyter.\n",
    "\n",
    "### Using the Command Prompt/Terminal\n",
    "On Windows, you can search for and open the \"Anaconda Prompt (Anaconda3)\" app to directly access the Conda environment in a Command Prompt. \n",
    "\n",
    "On macOS/Linux, there is no such app so you may need to add your Anaconda install directory to your PATH environment variable to access the Conda environment, e.g. on macOS Catalina/Big Sur, you can add the following to your .zshrc (or .bashrc on other OSs): export PATH=\"/opt/anaconda3/bin:$PATH\".  Then source the .zshrc or .bashrc file  (or just restart Terminal to make your life simpler).\n",
    "\n",
    "Once everything is properly set up, you can launch Jupyter using the following simple command on any OS: `jupyter notebook` or `jupyter lab`.  Note that closing the Command Prompt/Terminal may sever your connection to Jupyter, so be sure to keep it open until you're done working in the Notebook.\n",
    "\n",
    "If you're still unsure what to do, there are plenty of useful online video (and text) tutorials if you need help installing Anaconda and setting up Jupyter (see: https://www.youtube.com/watch?v=Hab2XntHZBQ, for example).\n",
    "Once everything is set up and Jupyter has been launched, you should see the Jupyter interface showing a rundown of your local user directory.\n",
    "\n",
    "### Using the graphical interface\n",
    "If the Terminal is a bit too frightening for you, you can search for and open the \"Anaconda Navigator\" app for a graphical interface, then just click on \"Notebook\" to launch Jupyter in your browser. This method is a bit slower than using Terminal, but it works just as well and it's much less complicated."
   ]
  },
  {
   "cell_type": "markdown",
   "id": "f8aa997d-797a-47f0-9e90-64e1b285657d",
   "metadata": {},
   "source": [
    "## Grading\n",
    "All of the labs will be distributed as `.ipynb` notebook files that you can open with Jupyter.  Each lab will typically contain a number of tasks that will require you to write Python code to complete.  It is intended that these tasks will be marked automatically by an autograder offered by the Gradescope service.\n",
    "\n",
    "Within the notebooks you will notice code for setting up the autograder like\n",
    "<code>\n",
    "    import otter\n",
    "    grader = otter.Notebook(\"xxxx\")\n",
    "</code>\n",
    "Elsewhere there are other sections that look for example like\n",
    "<code>\n",
    "    grader.check(\"orient_q1a\")\n",
    "</code>\n",
    "\n",
    "When you execute the `grader.check()` blocks, output should be generated that indicates whether or not the code you have written passes various tests.  There are visible tests, which you can see and use to refine your code, and hidden tests that are applied by the autograder after you submit your notebook for grading.  Use the output from the visible tests to ensure that your code is at least at least partially correct.\n",
    "\n",
    "At the bottom of the notebooks the is a section called *Submission* that outlines how to generate a final file to submit for the assignment.  Basically you should save the notebook, and select \"Restart Kernel and Run All Cells\" from the \"Kernel\" menu in the Jupyter notebook environment.  A zipfile will be created that you can download and submit to Gradescope.\n",
    "\n",
    "Note that you should submit the generated output directly to Gradescope and not as a submission on Amathuba."
   ]
  },
  {
   "cell_type": "code",
   "execution_count": null,
   "id": "49260c29-a5b4-488d-8b0d-a8f52cd46119",
   "metadata": {},
   "outputs": [],
   "source": []
  }
 ],
 "metadata": {
  "kernelspec": {
   "display_name": "Python 3 (ipykernel)",
   "language": "python",
   "name": "python3"
  },
  "language_info": {
   "codemirror_mode": {
    "name": "ipython",
    "version": 3
   },
   "file_extension": ".py",
   "mimetype": "text/x-python",
   "name": "python",
   "nbconvert_exporter": "python",
   "pygments_lexer": "ipython3",
   "version": "3.10.12"
  }
 },
 "nbformat": 4,
 "nbformat_minor": 5
}
