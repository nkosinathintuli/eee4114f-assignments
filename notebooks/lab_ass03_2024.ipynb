{
 "cells": [
  {
   "cell_type": "code",
   "execution_count": null,
   "id": "96e93ae9",
   "metadata": {
    "deletable": false,
    "editable": false
   },
   "outputs": [],
   "source": [
    "# Initialize Otter\n",
    "import otter\n",
    "grader = otter.Notebook(\"lab_ass03_2024.ipynb\")"
   ]
  },
  {
   "cell_type": "markdown",
   "id": "5ceff933-1bf7-4097-9162-012382d2bc0c",
   "metadata": {},
   "source": [
    "# Computer Assignment 3"
   ]
  },
  {
   "cell_type": "markdown",
   "id": "81920878-e765-4430-aa01-35ca756c7743",
   "metadata": {},
   "source": [
    "Make sure the code below works and plays audio that you can hear."
   ]
  },
  {
   "cell_type": "code",
   "execution_count": null,
   "id": "82f056a6-f936-473f-8013-7ccc18e1534b",
   "metadata": {},
   "outputs": [],
   "source": [
    "import numpy as np\n",
    "import sounddevice as sd\n",
    "\n",
    "fs = 8192\n",
    "y = np.loadtxt('/Users/nicolls/Desktop/handel8192.txt')\n",
    "sd.play(y,fs)"
   ]
  },
  {
   "cell_type": "markdown",
   "id": "1fd18c3c-ec82-4dab-b67c-a3326da16064",
   "metadata": {},
   "source": [
    "***\n",
    "**Task 1**:  FIR filtering of narrowband interference\n",
    "***"
   ]
  },
  {
   "cell_type": "markdown",
   "id": "14e7b42c-a247-4535-8956-25980daa178f",
   "metadata": {},
   "source": [
    "We synthesise a signal corrupted by narrowband interference at frequency $\\omega_I = 2 \\pi/10 = 8 \\pi/40$ rad/s."
   ]
  },
  {
   "cell_type": "code",
   "execution_count": null,
   "id": "300550da-fbe6-42f0-a083-0839eef00e23",
   "metadata": {},
   "outputs": [],
   "source": [
    "yc = y + 1.0*np.sin(2*np.pi/10*np.arange(len(y)))"
   ]
  },
  {
   "cell_type": "markdown",
   "id": "11042056-6299-4c84-8745-ebbed1ae6186",
   "metadata": {},
   "source": [
    "Use a filter design tool with the \"equiripple\" Parks–McClellan algorithm to find a minimum order finite impulse response notch or bandstop filter to null the interference.  The filter should pass all frequencies $\\omega < 6 \\pi/40$ and $\\omega > 10\\pi/40$ with less than 0.1dB of ripple, and it should provide at least 60dB of attenuation over the range $7\\pi/40 < \\omega < 9\\pi/40$.  Place the impulse response values in the vector `bv` below, and confirm that the filter evidently eliminates the interference (and some of the signal) from the corrupted audio clip.\n",
    "\n",
    "If you're using pyFDA then it's possible to copy the filter coefficients to the clipboard from the \"b,a\" tab.  Open the \"CSV\" settings dialog, choose \"Table mode\" as \"Rows\", and select the \"Clipboard\" output.  You can then copy to clipboard, paste the values into a Jupyter cell, and add some minor edits to generate the required vector."
   ]
  },
  {
   "cell_type": "code",
   "execution_count": null,
   "id": "7d7bb30c-7ae5-445e-aa12-281fbf6f82da",
   "metadata": {
    "tags": []
   },
   "outputs": [],
   "source": [
    "from scipy import signal\n",
    "import matplotlib.pyplot as plt\n",
    "\n",
    "# Null (identity) filter below\n",
    "a1v = np.ones((1,))  # no poles\n",
    "b1v = np.ones((1,))  # single impulse\n",
    "\n",
    "# Update FIR filter impulse response using results of filter design process\n",
    "b1v = ...\n",
    "\n",
    "# Plot frequency response corresponding to bv, av above\n",
    "(w1v,H1v) = signal.freqz(b1v,a1v)\n",
    "\n",
    "# Plot frequency response magnitude and phase\n",
    "fig, axs = plt.subplots(2, 1, constrained_layout=True)\n",
    "\n",
    "axs[0].plot(w1v, np.abs(H1v))\n",
    "axs[0].set_title('Filter frequency response')\n",
    "axs[0].set_ylabel('$|H(e^{j \\omega})|$')\n",
    "\n",
    "axs[1].plot(w1v, np.angle(H1v))\n",
    "axs[1].set_xlabel('$\\omega$')\n",
    "axs[1].set_ylabel('$\\t{angle}~H(e^{j \\omega})$');"
   ]
  },
  {
   "cell_type": "code",
   "execution_count": null,
   "id": "86190d03-2b22-404d-9d68-c898279e6c6e",
   "metadata": {
    "deletable": false,
    "editable": false
   },
   "outputs": [],
   "source": [
    "# Filter signal (numerator is bv and usually av[0]=1)\n",
    "y1v = signal.lfilter(b1v,a1v,yc)\n",
    "#sd.play(y1v,fs)"
   ]
  },
  {
   "cell_type": "code",
   "execution_count": null,
   "id": "b23d14f7",
   "metadata": {
    "deletable": false,
    "editable": false
   },
   "outputs": [],
   "source": [
    "grader.check(\"lab_ass03_q1a\")"
   ]
  },
  {
   "cell_type": "markdown",
   "id": "f838a255-36d2-4dc9-9ce9-a6310895d4bd",
   "metadata": {},
   "source": [
    "***\n",
    "**Task 2**:  IIR filtering of narrowband interference\n",
    "***"
   ]
  },
  {
   "cell_type": "markdown",
   "id": "b45a9dd8-4bc1-47ad-a7c9-ee8585b88dda",
   "metadata": {},
   "source": [
    "We synthesise a signal corrupted by narrowband interference at frequency $\\omega_I = 2 \\pi/10 = 8 \\pi/40$ rad/s."
   ]
  },
  {
   "cell_type": "code",
   "execution_count": null,
   "id": "a97d301e-dab4-4bbb-9b4f-e319ea996a2c",
   "metadata": {},
   "outputs": [],
   "source": [
    "yc = y + 1.0*np.sin(2*np.pi/10*np.arange(len(y)))"
   ]
  },
  {
   "cell_type": "markdown",
   "id": "62989f09-ab5b-4d22-b391-54014ac6b76e",
   "metadata": {},
   "source": [
    "Design an infinite impulse response filter that satisfies the same requirements as above using the \"Elliptic\" method.  You should observe that the IIR filter can be implemented with significantly less computation than the FIR filter, but it will have a nonlinear phase response.  You can confirm that this nonlinear phase characteristic does not appear to cause audible distortions in the output.  Apparently our ears are not sensitive to phase."
   ]
  },
  {
   "cell_type": "code",
   "execution_count": null,
   "id": "e7725ac7-0178-412c-8a44-b1c253208215",
   "metadata": {
    "tags": []
   },
   "outputs": [],
   "source": [
    "from scipy import signal\n",
    "import matplotlib.pyplot as plt\n",
    "\n",
    "# Null (identity) filter below\n",
    "a2v = np.ones((1,))  # no poles\n",
    "b2v = np.ones((1,))  # single impulse\n",
    "\n",
    "# Update filter parameters using results from filter design tool\n",
    "b2v = ...\n",
    "a2v = ...\n",
    "\n",
    "# Plot frequency response corresponding to bv, av above\n",
    "(w2v,H2v) = signal.freqz(b2v,a2v)\n",
    "\n",
    "# Plot frequency response magnitude and phase\n",
    "fig, axs = plt.subplots(2, 1, constrained_layout=True)\n",
    "\n",
    "axs[0].plot(w2v, np.abs(H2v))\n",
    "axs[0].set_title('Filter frequency response')\n",
    "axs[0].set_ylabel('$|H(e^{j \\omega})|$')\n",
    "\n",
    "axs[1].plot(w2v, np.angle(H2v))\n",
    "axs[1].set_xlabel('$\\omega$')\n",
    "axs[1].set_ylabel('$\\t{angle}~H(e^{j \\omega})$');"
   ]
  },
  {
   "cell_type": "code",
   "execution_count": null,
   "id": "6640d550-3561-4893-a3c4-291d8b7ce0e9",
   "metadata": {
    "deletable": false,
    "editable": false
   },
   "outputs": [],
   "source": [
    "# Filter signal (numerator is bv and usually av[0]=1)\n",
    "y2v = signal.lfilter(b2v,a2v,yc)\n",
    "#sd.play(y2v,fs)"
   ]
  },
  {
   "cell_type": "code",
   "execution_count": null,
   "id": "23d95c3f",
   "metadata": {
    "deletable": false,
    "editable": false
   },
   "outputs": [],
   "source": [
    "grader.check(\"lab_ass03_q1b\")"
   ]
  },
  {
   "cell_type": "markdown",
   "id": "3f8c191b-d6ee-419b-9965-c16ba6c25fef",
   "metadata": {},
   "source": [
    "***\n",
    "**Task 3**:  Upsampling by rational factor\n",
    "***"
   ]
  },
  {
   "cell_type": "markdown",
   "id": "e491bbc2-953d-4aa5-82ed-aeaa7295d29f",
   "metadata": {},
   "source": [
    "Suppose we want to do sampling rate conversion of the signal `y` sampled at frequency `fs` to produce `yu` that can be played using `sd.play(yu3d2,fs*3/2)`.  This requires expanding the signal by a factor of 3, filtering the result with a lowpass filter with cutoff $\\omega_c = \\pi/3$, and discarding every second sample from the result.\n",
    "\n",
    "Complete the function `sigu3d2(y)` below that takes the input signal `y` and generates the required upsampled signal `yu`.  You can test that your function is working using `sd.play`.\n",
    "\n",
    "Your lowpass filter should have less than 1dB of ripple for $\\omega < 0.8 \\omega_c$ and at least 40dB of attenuation for $\\omega > 1.2 \\omega_c$.  You can use any filter structure you like, but try to see if you can keep computational requirements low."
   ]
  },
  {
   "cell_type": "code",
   "execution_count": null,
   "id": "34d943f9-a71f-4a03-a40d-51f2e9124171",
   "metadata": {
    "tags": []
   },
   "outputs": [],
   "source": [
    "def sigu3d2(y):\n",
    "\n",
    "  # Lowpass filter with cutoff wc=pi/3\n",
    "  av = ...\n",
    "  bv = ...\n",
    "  bv = 3*bv  # need additional filter gain \n",
    "\n",
    "  # Input expanded by factor 3\n",
    "  yu3 = np.zeros((3*len(y),))\n",
    "  yu3[::3] = y;\n",
    "\n",
    "  # Interpolation using lowpass filter\n",
    "  yu3f = ...\n",
    "\n",
    "  # Result downsampled by factor 2\n",
    "  yu = yu3f[::2]\n",
    "  return yu"
   ]
  },
  {
   "cell_type": "code",
   "execution_count": null,
   "id": "cbc64992-9581-4912-93a3-385fe4fc6b28",
   "metadata": {
    "deletable": false,
    "editable": false
   },
   "outputs": [],
   "source": [
    "# Upsample and play audio\n",
    "yu = sigu3d2(y)\n",
    "sd.play(yu,fs*3/2)"
   ]
  },
  {
   "cell_type": "code",
   "execution_count": null,
   "id": "6ad4b372",
   "metadata": {
    "deletable": false,
    "editable": false
   },
   "outputs": [],
   "source": [
    "grader.check(\"lab_ass03_q1c\")"
   ]
  },
  {
   "cell_type": "markdown",
   "id": "ec456374",
   "metadata": {
    "deletable": false,
    "editable": false
   },
   "source": [
    "## Submission\n",
    "\n",
    "Make sure you have run all cells in your notebook in order before running the cell below, so that all images/graphs appear in the output. The cell below will generate a zip file for you to submit. **Please save before exporting!**"
   ]
  },
  {
   "cell_type": "code",
   "execution_count": null,
   "id": "48dd4fac",
   "metadata": {
    "deletable": false,
    "editable": false
   },
   "outputs": [],
   "source": [
    "# Save your notebook first, then run this cell to export your submission.\n",
    "grader.export(pdf=False, run_tests=True)"
   ]
  },
  {
   "cell_type": "markdown",
   "id": "27744089",
   "metadata": {},
   "source": [
    " "
   ]
  }
 ],
 "metadata": {
  "kernelspec": {
   "display_name": "Python 3 (ipykernel)",
   "language": "python",
   "name": "python3"
  },
  "language_info": {
   "codemirror_mode": {
    "name": "ipython",
    "version": 3
   },
   "file_extension": ".py",
   "mimetype": "text/x-python",
   "name": "python",
   "nbconvert_exporter": "python",
   "pygments_lexer": "ipython3",
   "version": "3.11.5"
  },
  "otter": {
   "OK_FORMAT": true,
   "assignment_name": "lab_ass03_q1",
   "tests": {
    "lab_ass03_q1a": {
     "name": "lab_ass03_q1a",
     "points": null,
     "suites": [
      {
       "cases": [
        {
         "code": ">>> assert (len(a1v) == 1) & (a1v[0] == 1)\n",
         "failure_message": "need len(a1v)==1 and a1v[0]==1",
         "hidden": false,
         "locked": false,
         "points": 1,
         "success_message": "have len(a1v)==1 and a1v[0]==1"
        },
        {
         "code": ">>> assert b1v.ndim == 1\n",
         "failure_message": "b1v does not have correct dimension of one",
         "hidden": false,
         "locked": false,
         "points": 1,
         "success_message": "b1v has correct dimension of one"
        }
       ],
       "scored": true,
       "setup": "",
       "teardown": "",
       "type": "doctest"
      }
     ]
    },
    "lab_ass03_q1b": {
     "name": "lab_ass03_q1b",
     "points": null,
     "suites": [
      {
       "cases": [
        {
         "code": ">>> assert len(a2v) != 1\n",
         "failure_message": "for IIR filter we do not have len(a2v)!=1 as required",
         "hidden": false,
         "locked": false,
         "points": 1,
         "success_message": "for IIR filter we have len(a2v)!=1 as required"
        },
        {
         "code": ">>> assert (b2v.ndim == 1) & (a2v.ndim == 1)\n",
         "failure_message": "b2v and a2v do not have correct dimension of one",
         "hidden": false,
         "locked": false,
         "points": 1,
         "success_message": "b2v and a2v have correct dimension of one"
        }
       ],
       "scored": true,
       "setup": "",
       "teardown": "",
       "type": "doctest"
      }
     ]
    },
    "lab_ass03_q1c": {
     "name": "lab_ass03_q1c",
     "points": null,
     "suites": [
      {
       "cases": [
        {
         "code": ">>> yu = sigu3d2(y)\n>>> assert yu.ndim == 1\n",
         "failure_message": "upsampled output does not have required dimension",
         "hidden": false,
         "locked": false,
         "points": 1,
         "success_message": "upsampled output has required dimension"
        },
        {
         "code": ">>> yu = sigu3d2(y)\n>>> assert (len(yu) / len(y) > 1.3) & (len(yu) / len(y) < 1.7)\n",
         "failure_message": "upsampled signal length not ~1.5x input signal length",
         "hidden": false,
         "locked": false,
         "points": 1,
         "success_message": "upsampled signal length ~1.5x input signal length"
        }
       ],
       "scored": true,
       "setup": "",
       "teardown": "",
       "type": "doctest"
      }
     ]
    }
   }
  }
 },
 "nbformat": 4,
 "nbformat_minor": 5
}
