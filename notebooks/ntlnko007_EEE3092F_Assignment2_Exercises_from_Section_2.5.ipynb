{
 "cells": [
  {
   "cell_type": "markdown",
   "metadata": {},
   "source": [
    "# EEE3092F Assignment 2 - Julia Exercises_Section_2.5"
   ]
  },
  {
   "cell_type": "markdown",
   "metadata": {},
   "source": [
    "#### PLAGIARISM STATEMENT\n",
    "\n",
    "I certify that this assignment/report is my own work, based on my personal\n",
    "study and/or research and that I have acknowledged all material and sources\n",
    "used in its preparation, and that I\n",
    "have not copied in part or whole or otherwise plagiarised the work of other\n",
    "students and/or persons.\n",
    "\n",
    "Name: Nkosinathi Ntuli (NTLNKO007)\n",
    "\n",
    "Date: 15 April 2022"
   ]
  },
  {
   "cell_type": "code",
   "execution_count": null,
   "metadata": {},
   "outputs": [],
   "source": [
    "using Pkg"
   ]
  },
  {
   "cell_type": "code",
   "execution_count": null,
   "metadata": {
    "scrolled": true
   },
   "outputs": [],
   "source": [
    "Pkg.add([\"Plots\", \"PlotlyBase\", \"WAV\", \"StatsBase\"]);"
   ]
  },
  {
   "cell_type": "markdown",
   "metadata": {},
   "source": [
    "### Exercise 2.5.1 – Visualising Sampled Sinusoid"
   ]
  },
  {
   "cell_type": "code",
   "execution_count": null,
   "metadata": {},
   "outputs": [],
   "source": [
    "using Plots\n",
    "\n",
    "#plotly(); # comment out plotly and use gr to reduce the file size for submission\n",
    "gr();"
   ]
  },
  {
   "cell_type": "markdown",
   "metadata": {},
   "source": [
    "(a) 100x the Nyquist rate. "
   ]
  },
  {
   "cell_type": "code",
   "execution_count": null,
   "metadata": {},
   "outputs": [],
   "source": [
    "default(size=(800,400)); # Plot canvas size\n",
    "default(label=\"\"); # Turn off legends\n",
    "default(ticks=:native); # \n",
    "\n",
    "function myplot(k)\n",
    "    f0 = 10\n",
    "    \n",
    "    fnyquist = 2*f0 # Nyquist rate\n",
    "    fs = k*fnyquist # sample rate\n",
    "    Δt = 1/fs # time step\n",
    "    t = 0:Δt:10/f0 # range \n",
    "\n",
    "    x = sin.(2π*f0*t) # Array containing function to be plotted \n",
    "    \n",
    "    # Ploting using Plots + Plotly backend\n",
    "    fig = plot(t, x,  \n",
    "    title = \"Lines joining the dots f₀ = $(f0)Hz fₛ = $(fs)Hz\",\n",
    "    xlabel = \"t [s]\",\n",
    "    ylabel = \"x(t)\");\n",
    "    display(fig);\n",
    "    \n",
    "    fig = plot(t, x, \n",
    "        seriestype = :scatter, \n",
    "        markersize=2, \n",
    "        title = \"Scatter Plot showing the samples f₀ = $(f0)Hz fₛ = $(fs)Hz\",\n",
    "        xlabel = \"t [s]\");\n",
    "    display(fig);\n",
    "end\n",
    "\n",
    "myplot(100);"
   ]
  },
  {
   "cell_type": "markdown",
   "metadata": {},
   "source": [
    "(b) 10x the Nyquist rate."
   ]
  },
  {
   "cell_type": "code",
   "execution_count": null,
   "metadata": {},
   "outputs": [],
   "source": [
    "myplot(10);"
   ]
  },
  {
   "cell_type": "markdown",
   "metadata": {},
   "source": [
    "(c) 2x the Nyquist rate."
   ]
  },
  {
   "cell_type": "code",
   "execution_count": null,
   "metadata": {},
   "outputs": [],
   "source": [
    "myplot(2);"
   ]
  },
  {
   "cell_type": "markdown",
   "metadata": {},
   "source": [
    "(d) 1.1x the Nyquist rate."
   ]
  },
  {
   "cell_type": "code",
   "execution_count": null,
   "metadata": {},
   "outputs": [],
   "source": [
    "myplot(1.1);"
   ]
  },
  {
   "cell_type": "markdown",
   "metadata": {},
   "source": [
    "(e) On the Nyquist rate."
   ]
  },
  {
   "cell_type": "code",
   "execution_count": null,
   "metadata": {},
   "outputs": [],
   "source": [
    "myplot(1);"
   ]
  },
  {
   "cell_type": "markdown",
   "metadata": {},
   "source": [
    "(f) Below the Nyquist rate (try 0.7x, and 55x of the Nyquist rate). For these cases, calculate and display the frequency fs-f0"
   ]
  },
  {
   "cell_type": "code",
   "execution_count": null,
   "metadata": {},
   "outputs": [],
   "source": [
    "myplot(0.7);\n",
    "println(\"\\nThe Plots with 0.7x the Nyquist Rate, fₛ - f₀ = $(0.7 * 2 * 10 - 10) Hz\");"
   ]
  },
  {
   "cell_type": "code",
   "execution_count": null,
   "metadata": {},
   "outputs": [],
   "source": [
    "myplot(55);\n",
    "println(\"\\nThe Plots with 55x the Nyquist Rate, fₛ - f₀ = $(55 * 2 * 10 - 10) Hz\")"
   ]
  },
  {
   "cell_type": "markdown",
   "metadata": {},
   "source": [
    "### Exercise 2.5.2 – DFT / FFT introduction"
   ]
  },
  {
   "cell_type": "code",
   "execution_count": null,
   "metadata": {},
   "outputs": [],
   "source": [
    "using FFTW"
   ]
  },
  {
   "cell_type": "code",
   "execution_count": null,
   "metadata": {},
   "outputs": [],
   "source": [
    "function dft(x)\n",
    "    N=length(x)\n",
    "    X = zeros(N)+im*zeros(N) # Complex array of 0+0im; Another method is X=zeros(ComplexF64,N)\n",
    "    for k=1:N\n",
    "        for n=1:N\n",
    "            X[k] = X[k] + x[n]*exp(-im*2*pi*(k-1)*(n-1)/N)\n",
    "        end\n",
    "    end\n",
    "    return X\n",
    "end;"
   ]
  },
  {
   "cell_type": "markdown",
   "metadata": {},
   "source": [
    "a) Insert this dft(x) function into Julia and compare it to the fft( ) function."
   ]
  },
  {
   "cell_type": "code",
   "execution_count": null,
   "metadata": {},
   "outputs": [],
   "source": [
    "x = [0,1,1,0,0,0,0,0]\n",
    "@show fft(x);\n",
    "@show dft(x);"
   ]
  },
  {
   "cell_type": "markdown",
   "metadata": {},
   "source": [
    "b) Plot the magnitude and phase via"
   ]
  },
  {
   "cell_type": "code",
   "execution_count": null,
   "metadata": {},
   "outputs": [],
   "source": [
    "X = fft(x);\n",
    "using Plots\n",
    "display(scatter(abs.(X), markersize=3, ylabel = \"abs X[k]\"))\n",
    "display(scatter(angle.(X), markersize=3, ylabel = \"angle X[k]\"))"
   ]
  },
  {
   "cell_type": "markdown",
   "metadata": {},
   "source": [
    "c) Try the ifft function."
   ]
  },
  {
   "cell_type": "code",
   "execution_count": null,
   "metadata": {},
   "outputs": [],
   "source": [
    "@show invX = ifft(X);\n",
    "@show real(ifft(X));"
   ]
  },
  {
   "cell_type": "markdown",
   "metadata": {},
   "source": [
    "d) Compare the speed of the dft() and fft() functions by timing doing some timing tests for different sizes of N. The fft() algorithm is fast (order NlogN) compared to the direct double for-loop DFT implementation (order N^2). Timing can be done using either the “@time” macro (which prints how long a function takes to evaluate, as well as memory used), or the “@elapsed” macro which returns the time taken so that it can be stored in a variable"
   ]
  },
  {
   "cell_type": "code",
   "execution_count": null,
   "metadata": {},
   "outputs": [],
   "source": [
    "function timing_test(n)\n",
    "    x = randn(n);\n",
    "    t_dft = @elapsed dft(x);\n",
    "    t_fft = @elapsed fft(x);\n",
    "    println(\"dft of length $(n) took $(t_dft) seconds\")\n",
    "    println(\"fft of length $(n) took $(t_fft) seconds\")\n",
    "end;"
   ]
  },
  {
   "cell_type": "code",
   "execution_count": null,
   "metadata": {},
   "outputs": [],
   "source": [
    "N = 1024\n",
    "timing_test(N);"
   ]
  },
  {
   "cell_type": "markdown",
   "metadata": {},
   "source": [
    "Trying with size N=2^8 = 256, N=2^10 = 1024, N=2^11 = 2028, N=2^12 = 4096. "
   ]
  },
  {
   "cell_type": "code",
   "execution_count": null,
   "metadata": {},
   "outputs": [],
   "source": [
    "N_sizes = [256, 1024, 2028, 4096]\n",
    "for i in N_sizes\n",
    "    timing_test(i)\n",
    "end"
   ]
  },
  {
   "cell_type": "markdown",
   "metadata": {},
   "source": [
    "Questions:\n",
    "\n",
    "(1) What is the largest power-of-2 size fft() that one can compute within 1 second (on your platform)? What is the largest dft() size?"
   ]
  },
  {
   "cell_type": "code",
   "execution_count": null,
   "metadata": {},
   "outputs": [],
   "source": [
    "p = 12\n",
    "t0 = @elapsed fft(randn(2^p))\n",
    "\n",
    "while t0 < 1\n",
    "    p = p + 1\n",
    "    t0 = @elapsed fft(randn(2^p))\n",
    "end\n",
    "\n",
    "p1 = 12\n",
    "t1 = @elapsed dft(randn(2^p1))\n",
    "\n",
    "while t1 < 1\n",
    "    p1 = p1 + 1\n",
    "    t1 = @elapsed dft(randn(2^p1))\n",
    "end\n",
    "\n",
    "\n",
    "println(\"The largest for fft() is : 2^$(p1) = $(2^p1)\")\n",
    "println(\"The largest for dft() is : 2^$(p) = $(2^p)\")"
   ]
  },
  {
   "cell_type": "markdown",
   "metadata": {},
   "source": [
    "(2) Is the fft() really faster for powers of two? Time the fft for N=2^15=32768 and for N=32767. Which is faster?"
   ]
  },
  {
   "cell_type": "code",
   "execution_count": null,
   "metadata": {},
   "outputs": [],
   "source": [
    "timing_test(2^15)"
   ]
  },
  {
   "cell_type": "code",
   "execution_count": null,
   "metadata": {},
   "outputs": [],
   "source": [
    "timing_test(32767)"
   ]
  },
  {
   "cell_type": "markdown",
   "metadata": {},
   "source": [
    "Yes, the fft() function is faster for powers of 2. The fft() function is faster than the dft() function."
   ]
  },
  {
   "cell_type": "markdown",
   "metadata": {},
   "source": [
    "### Exercise 2.5.3 – FFT of a sine wave"
   ]
  },
  {
   "cell_type": "markdown",
   "metadata": {},
   "source": [
    "a) perform a spectral analysis on the signal _v(t) = 4 cos (20πt) + 2 cos (30πt)_. Show plots of the time domain, and the frequency domain."
   ]
  },
  {
   "cell_type": "code",
   "execution_count": null,
   "metadata": {},
   "outputs": [],
   "source": [
    "Δt = 0.001 # time step\n",
    "t = 0:Δt:1; # range\n",
    "\n",
    "vt = 4*cos.(20*π*t) + 2*cos.(30*π*t); # Create an array holding the sinusoid values\n",
    "\n",
    "\n",
    "fig = plot(t, vt, \n",
    "    title = \"v(t) = cos(20πt) + 2cos(30πt)\", \n",
    "    markershape = :circle, \n",
    "    markerstrokecolor=:blue, \n",
    "    markersize = 2, \n",
    "    xlabel = \"t [s]\", \n",
    "    ylabel = \"v(t)\");\n",
    "\n",
    "display(fig); # The time domain plot sampled signal"
   ]
  },
  {
   "cell_type": "code",
   "execution_count": null,
   "metadata": {},
   "outputs": [],
   "source": [
    "#using FFTW   # Import Fourier library\n",
    "\n",
    "# The frequency axis in Hz\n",
    "N = length(t);\n",
    "Δf = 1/(N*Δt)  # spacing in frequency domain\n",
    "\n",
    "# case w/o fftshift\n",
    "# create array of freq values stored in f_axis. First element maps to 0 Hz\n",
    "f_axis = (0:N-1)*Δf;  \n",
    "\n",
    "V = fft(vt)\n",
    "\n",
    "# note: not normalised, to normalise multiply by (2/N)\n",
    "\n",
    "fig = plot(f_axis, abs.(V), \n",
    "    markershape = :circle, \n",
    "    markersize = 3, \n",
    "    markercolor=:lightblue, \n",
    "    markerstrokecolor=:blue, \n",
    "    title = \"The magnitude of the FFT(v)\",\n",
    "    ylabel = \"abs V(k)\",\n",
    "    xlabel = \"f [Hz]\");\n",
    "\n",
    "display(fig);\n",
    "\n",
    "# for fftshift case\n",
    "# create array of freq values stored in f_axis. \n",
    "if mod(N,2)==0    # case N even\n",
    "    f_axis = (-N/2:N/2-1)*Δf;    \n",
    "else   # case N odd\n",
    "    f_axis = (-(N-1)/2 : (N-1)/2)*Δf; \n",
    "end\n",
    "\n",
    "# swap around halves of array so that plot show zero Hz in middle\n",
    "fig = plot(f_axis, fftshift(abs.(V)), \n",
    "    markershape = :circle, \n",
    "    markersize = 3, \n",
    "    markercolor=:lightblue, \n",
    "    markerstrokecolor=:blue, \n",
    "    title = \"The fftshift of the magnitude of the FFT(v)\",\n",
    "    ylabel = \"\",\n",
    "    xlabel = \"f [Hz]\");\n",
    "\n",
    "display(fig);"
   ]
  },
  {
   "cell_type": "markdown",
   "metadata": {},
   "source": [
    "b) Try zero padding in the time domain, i.e. extend the length of the time array by adding additional zeros. This will give a finer sample spacing in the frequency domain."
   ]
  },
  {
   "cell_type": "code",
   "execution_count": null,
   "metadata": {},
   "outputs": [],
   "source": [
    "y = zeros(16*N) # Make array 16x longer.\n",
    "y[1:N] = t; # Copy x into first N samples. The rest contains zeros.\n",
    "Y = fft(y);\n",
    "\n",
    "fig = plot(abs.(Y), title = \"The magnitude of the FFT(y)\");\n",
    "display(fig);\n",
    "\n",
    "fig = plot(abs.(Y[1:200]), title = \"The magnitude of the FFT(y) [zoomed in first 200 samples]\");\n",
    "display(fig);\n",
    "\n",
    "N_new = length(y)\n",
    "Δf_new = 1/(N_new*Δt)  # new spacing in frequency domain\n",
    "#create array of freq values stored in f_axis. First element maps to 0Hz\n",
    "if mod(N_new,2)==0    # case N even\n",
    "    f_axis_new = (-N_new/2:N_new/2-1)*Δf_new;    \n",
    "else   # case N odd\n",
    "    f_axis_new = (-(N_new-1)/2 : (N_new-1)/2)*Δf_new; \n",
    "end\n",
    "\n",
    "fig = plot(f_axis_new, fftshift(abs.(Y)), \n",
    "    title = \"The fftshift of the magnitude of the FFT(y)\",\n",
    "    xlabel = \"f [Hz]\");\n",
    "display(fig);"
   ]
  },
  {
   "cell_type": "markdown",
   "metadata": {},
   "source": [
    "Question: What do you now clearly see at the locations of the two sinusoidal frequencies?"
   ]
  },
  {
   "cell_type": "markdown",
   "metadata": {},
   "source": [
    "The Sa() functions"
   ]
  },
  {
   "cell_type": "markdown",
   "metadata": {},
   "source": [
    "### Exercise 2.5.4 – Effect of ADC quantization¶"
   ]
  },
  {
   "cell_type": "markdown",
   "metadata": {},
   "source": [
    "Simulate a sinusoid voltage (as in the previous exercise). _v = cos.(2pif0*t)_ The signal lies in the range: _Amin = -0.5_ to _Amax = 0.5_ Quantize the signal into 2^Nbits levels when Nbits is the number of bits of an ADC."
   ]
  },
  {
   "cell_type": "code",
   "execution_count": null,
   "metadata": {},
   "outputs": [],
   "source": [
    "f0 = 10 # fundamental frequency\n",
    "Δt = 0.001 \n",
    "t = -0.5:Δt:0.5; # range\n",
    "A = 1 # amplitude in V\n",
    "\n",
    "vt2 = A*cos.(2*pi*f0*t); #sinusoid voltage \n",
    "\n",
    "\n",
    "fig = plot(t, vt2, \n",
    "    markershape = :circle, \n",
    "    markersize = 2, \n",
    "    markercolor=:lightblue, \n",
    "    markerstrokecolor=:blue, \n",
    "    title = \"v = cos(2πf₀t)\",\n",
    "    xlabel = \"t [s]\", \n",
    "    ylabel = \"v(t)\");\n",
    "\n",
    "display(fig);"
   ]
  },
  {
   "cell_type": "code",
   "execution_count": null,
   "metadata": {},
   "outputs": [],
   "source": [
    "Nbits = 4 # Try 2, then 3, then 4 etc.\n",
    "Nlevels = 2^Nbits\n",
    "Amax = 1+0.00001 # Add a small amount to prevent problem at extreme\n",
    "Amin = -1-0.00001\n",
    "v_quantized = (round.( (vt2 .- Amin) ./(Amax-Amin)*Nlevels .- 0.5) .+0.5) / Nlevels*(Amax-Amin) .+ Amin;\n",
    "\n",
    "# Display spectrum of the quantized signal in the time domain\n",
    "display(\n",
    "    plot(t, v_quantized, \n",
    "        title = \"Quantized sinusoid vq(t) Nlevels = $(Nlevels)\", \n",
    "        xlabel = \"t [s]\", \n",
    "        ylabel = \"vq(t)\",\n",
    "        markershape = :circle, \n",
    "        markersize = 2, \n",
    "        markercolor=:lightblue, \n",
    "        markerstrokecolor=:blue)\n",
    "    );\n",
    "\n",
    "\n",
    "\n",
    "# Display spectrum of the unquantized signal\n",
    "display( \n",
    "    plot(abs.(fft(vt2)),\n",
    "        title = \"The magnitude of the FFT(v)\",\n",
    "        markershape = :circle, \n",
    "        markersize = 2,\n",
    "        markercolor=:lightblue, \n",
    "        markerstrokecolor=:blue));\n",
    "\n",
    "# Display spectrum of the quantized signal\n",
    "display( \n",
    "    plot(abs.(fft(v_quantized)), \n",
    "        title = \"The magnitude of the FFT(vq(t))\",\n",
    "        markershape = :circle, \n",
    "        markersize = 2, \n",
    "        markercolor=:lightblue, \n",
    "        markerstrokecolor=:blue)\n",
    "    );\n",
    "\n",
    "display(\n",
    "    plot(20*log10.(abs.(v_quantized)), \n",
    "        title = \"The magnitude of the FFT(vq(t)) [dBv scale]\",\n",
    "        ylabel = \"dB\",\n",
    "        markershape = :circle, \n",
    "        markersize = 1,\n",
    "        markerstrokecolor=:blue);\n",
    "    );"
   ]
  },
  {
   "cell_type": "markdown",
   "metadata": {},
   "source": [
    "Having implemented this, inspect both the unquantized and quantized signal in the\n",
    "time and frequency domains. Increase your sample rate to at least 10 times the\n",
    "Nyquist (or higher) to see the effect.?\n",
    "\n"
   ]
  },
  {
   "cell_type": "code",
   "execution_count": null,
   "metadata": {},
   "outputs": [],
   "source": [
    "fnyquist = 2*f0 # Nyquist rate\n",
    "\n",
    "k = 100 # sample rate \n",
    "\n",
    "fs = k*fnyquist # sample rate\n",
    "Δt = 1/fs # time step\n",
    "t = 0:Δt:10/f0 # range \n",
    "\n",
    "vt2 = A*cos.(2*pi*f0*t)\n",
    "v_quantized = (round.( (vt2 .- Amin) ./(Amax-Amin)*Nlevels .- 0.5) .+0.5) / Nlevels*(Amax-Amin) .+ Amin;\n",
    "\n",
    "display(\n",
    "    plot(t, vt2, title = \"v = cos(2πf₀t)\",\n",
    "        xlabel = \"t [s]\", \n",
    "        ylabel = \"v(t)\",\n",
    "        markershape = :circle, \n",
    "        markersize = 2, \n",
    "        markercolor=:lightblue, \n",
    "        markerstrokecolor=:blue\n",
    "        )\n",
    "    );\n",
    "    \n",
    "display(\n",
    "    plot(t, v_quantized,\n",
    "        title = \"Quantized sinusoid vq(t) Nlevels = $(Nlevels)\",\n",
    "        xlabel = \"t [s]\", \n",
    "        ylabel = \"vq(t)\", \n",
    "        markershape = :circle, \n",
    "        markersize = 2, \n",
    "        markercolor=:lightblue, \n",
    "        markerstrokecolor=:blue));\n",
    "        \n",
    "# Display spectrum of the unquantized signal\n",
    "display( \n",
    "    plot(abs.(fft(vt2)),\n",
    "        title = \"The magnitude of the FFT(v)\",\n",
    "        markershape = :circle, \n",
    "        markersize = 2,\n",
    "        markercolor=:lightblue, \n",
    "        markerstrokecolor=:blue));\n",
    "\n",
    "# Display spectrum of the quantized signal\n",
    "display( \n",
    "    plot(abs.(fft(v_quantized)), \n",
    "        title = \"The magnitude of the FFT(vq(t))\",\n",
    "        markershape = :circle, \n",
    "        markersize = 2, \n",
    "        markercolor=:lightblue, \n",
    "        markerstrokecolor=:blue)\n",
    "    );"
   ]
  },
  {
   "cell_type": "markdown",
   "metadata": {},
   "source": [
    "Question: What effect does quantization have in the frequency domain? \n",
    "\n",
    "As the Nyquist rate increase the quantization level become more finer, more points are represented"
   ]
  },
  {
   "cell_type": "markdown",
   "metadata": {},
   "source": [
    "### Exercise 2.5.5 – Simulating bandlimited noise"
   ]
  },
  {
   "cell_type": "markdown",
   "metadata": {},
   "source": [
    "a) Try the following:\n"
   ]
  },
  {
   "cell_type": "code",
   "execution_count": null,
   "metadata": {},
   "outputs": [],
   "source": [
    "fs = 1000 # sample rate in Hz\n",
    "Δt=1/fs; # sample spacing in s\n",
    "N = 100 # Choose an even number (makes like easier later)\n",
    "t = range(0, step=Δt, length=N) # Define time axis\n",
    "σ = 1\n",
    "x = σ * randn(N); # Create the random samples with std dev of σ.\n",
    "\n",
    "fig = histogram(x,bins=10) # inspect histogram\n",
    "display(fig);\n",
    "\n",
    "fig = plot(t,x, \n",
    "    seriestype = :scatter, \n",
    "    markersize = 2,\n",
    "    markerstrokecolor=:blue,\n",
    "    title = \"Sampled noise, bandwidth B=fs/2\"); # inspect sampled time domain\n",
    "display(fig);\n",
    "\n",
    "X = fft(x);\n",
    "fig = plot(abs.(X)); # inspect DFT frequency domain\n",
    "display(fig);"
   ]
  },
  {
   "cell_type": "markdown",
   "metadata": {},
   "source": [
    "b) Zero-pad in frequency domain to get finer sample spacing in time domain (read lecture notes). Run the code below to inspect the noise waveform resampled at 10x finer sample spacing."
   ]
  },
  {
   "cell_type": "code",
   "execution_count": null,
   "metadata": {},
   "outputs": [],
   "source": [
    "pad_factor=10\n",
    "Ny = pad_factor*N;\n",
    "Y = zeros(Ny)+im*zeros(Ny) # Create a complex array of zeros\n",
    "k_mid = Int(N/2)\n",
    "Y[1:k_mid]=X[1:k_mid]; # Insert the first half of X\n",
    "Y[Ny-k_mid+1:Ny]=X[k_mid+1:N]; # Insert the 2nd half of X at the end\n",
    "\n",
    "fig = plot(abs.(Y)); # inspect padded array\n",
    "display(fig)\n",
    "\n",
    "y = ifft(Y); # Go back to time domain\n",
    "y = real(y); # discard the very tiny imaginary components\n",
    "Ny = length(y)\n",
    "t_new = range(0, step=Δt/pad_factor, length=Ny) # Define time axis\n",
    "\n",
    "fig = plot(t_new,y,\n",
    "    markershape = :circle, \n",
    "    markersize = 2, \n",
    "    markerstrokecolor=:blue);\n",
    "\n",
    "display(fig)\n",
    "fig = plot(t_new[1:300],y[1:300],\n",
    "    markershape = :circle, \n",
    "    markersize = 2, \n",
    "    markerstrokecolor=:blue); # Plot just first 300 samples\n",
    "display(fig)"
   ]
  },
  {
   "cell_type": "markdown",
   "metadata": {},
   "source": [
    "c) Now try bandlimiting the noise using an ideal LPF. First create and display the filter. Then apply to the noise waveform in the frequency domain. Here the bandwidth B=100Hz. The original bandwidth was fs/2=1000/2=500Hz."
   ]
  },
  {
   "cell_type": "code",
   "execution_count": null,
   "metadata": {},
   "outputs": [],
   "source": [
    "# Create a Filter transfer function\n",
    "Δω = 2*pi/(N*Δt) # Sample spacing in freq domain in rad/s\n",
    "ω = 0:Δω:(N-1)*Δω\n",
    "f = ω/(2*π)\n",
    "B = 100 # filter bandwidth in Hz\n",
    "# In the sampled frequency domain. add a rect centred on zero to one centred at the next repeat\n",
    "# i.e. centred on 0 rad/s an on 2pi/Δt rad/s.\n",
    "rect(t) = (abs.(t).<=0.5)*1.0;\n",
    "H0 = rect(ω/(4*π*B)) + rect( (ω .- 2*π/Δt)/(4*π*B) );\n",
    "\n",
    "fig = plot(f,H0,\n",
    "    markershape = :circle, \n",
    "    markersize = 2, \n",
    "    markerstrokecolor=:blue,\n",
    "    title = \"Ideal LPF\",\n",
    "    xlabel = \"Frequency in Hz\"); # Note, H in this case is purely real.\n",
    "display(fig)"
   ]
  },
  {
   "cell_type": "code",
   "execution_count": null,
   "metadata": {},
   "outputs": [],
   "source": [
    "#Apply filter to noise:\n",
    "X_filtered = X.*H0;\n",
    "\n",
    "fig = plot(abs.(X_filtered))\n",
    "display(fig)\n",
    "x_filtered = ifft(X_filtered)\n",
    "x_filtered = real(x_filtered)\n",
    "\n",
    "fig = plot(t,x_filtered, \n",
    "    title = \"Lowpass Filtered noise, bandwidth B=$(B)\",\n",
    "    xlabel = \"time t [s]\");\n",
    "display(fig)"
   ]
  },
  {
   "cell_type": "code",
   "execution_count": null,
   "metadata": {},
   "outputs": [],
   "source": [
    "using StatsBase;"
   ]
  },
  {
   "cell_type": "markdown",
   "metadata": {},
   "source": [
    "How do the waveforms differ?\n",
    "\n",
    "The lowpass filtered noise is more smooth\n",
    "\n",
    "Calculate the standard deviations of each as a measure of spread"
   ]
  },
  {
   "cell_type": "code",
   "execution_count": null,
   "metadata": {},
   "outputs": [],
   "source": [
    "@show std(x)\n",
    "@show std(x_filtered);"
   ]
  },
  {
   "cell_type": "markdown",
   "metadata": {},
   "source": [
    "### Exercise 2.5.6 – Discrete fast convolution"
   ]
  },
  {
   "cell_type": "code",
   "execution_count": null,
   "metadata": {},
   "outputs": [],
   "source": [
    "rect(t) = (abs.(t).<=0.5)*1.0;\n",
    "\n",
    "dt = 0.001\n",
    "tmax = 8\n",
    "T = 2\n",
    "\n",
    "t=0:dt:tmax\n",
    "\n",
    "x =  rect( (t.-T)/T )\n",
    "y = rect( (t.-2T)/(2T) ) \n",
    "z = ifft(fft(x).*fft(y)); \n",
    "\n",
    "fig = plot(x)\n",
    "fig = plot!(y)\n",
    "display(fig);"
   ]
  },
  {
   "cell_type": "code",
   "execution_count": null,
   "metadata": {},
   "outputs": [],
   "source": [
    "display(plot(real(z)));\n",
    "display(plot(fftshift(z)));"
   ]
  },
  {
   "cell_type": "markdown",
   "metadata": {},
   "source": [
    "### Exercise 2.5.7 – Spectral Analysis of Music"
   ]
  },
  {
   "cell_type": "code",
   "execution_count": null,
   "metadata": {},
   "outputs": [],
   "source": [
    "using WAV"
   ]
  },
  {
   "cell_type": "markdown",
   "metadata": {},
   "source": [
    "a) Write julia code to\n",
    "- load an audio “wav” file\n",
    "- extract a specified portion [t1,t2]\n",
    "- display in time domain\n",
    "- display in frequency domain"
   ]
  },
  {
   "cell_type": "code",
   "execution_count": null,
   "metadata": {},
   "outputs": [],
   "source": [
    "function music_analyse(filename)\n",
    "    data, fs = wavread(filename) # Read stereo wave file\n",
    "\n",
    "    # wavread() returns 2D data array (matrix) and also the sample rate fs.\n",
    "    # If stereo, the 1st column holds one channel and the 2nd column holds the other.\n",
    "\n",
    "    channel1 = data[:,1] # extract 1st column (left channel I think)\n",
    "    # channel2 = data[:,2] # if stereo, then there is a 2nd channel in the 2nd column.\n",
    "\n",
    "    dt = 1/fs # calculate sample spacing from sample rate\n",
    "    t_axis_all = (0:length(channel1)-1)*dt # time axis for plotting\n",
    "\n",
    "    # Extracting a portion of sound from time t1 to t2 seconds\n",
    "    t1 =0; t2=10; # specify start time t1 and end time t2\n",
    "    i1 = Int(round(t1/dt))+1 # calculate index of sample closest to t1\n",
    "    i2 = Int(round(t2/dt))+1 # calculate index of sample closest to t2\n",
    "\n",
    "    y = channel1[i1:i2] # extract relevant portion from channel1\n",
    "\n",
    "    N = length(y) # Get size of array\n",
    "\n",
    "    t=(0:N-1)*dt; # Define a time axis for the extracted portion\n",
    "\n",
    "    display(plot(t,y, title = \"Time domain plot\", xlabel=\"Time [seconds]\")) # Plot array vs time\n",
    "    \n",
    "    # Next calculate the fft(y)\n",
    "    # display abs.() of fft. Label frequenct axes in Hz etc.\n",
    "    # For visualisation of a relevant portion use plot(array[index1:index2])\n",
    "    #Label the frequency axis in Hz\n",
    "    \n",
    "    Δf = 1/(N*dt)  # spacing in frequency domain\n",
    "\n",
    "    #create array of freq values stored in f_axis. First element maps to 0Hz\n",
    "    f_axis = (0:N-1)*Δf;    \n",
    "\n",
    "    Y = fft(y);\n",
    "    display(plot(f_axis, abs.(Y), title = \"Frequency domain plot\",xlabel = \"Frequency [Hz]\"));\n",
    "end;"
   ]
  },
  {
   "cell_type": "markdown",
   "metadata": {},
   "source": [
    "Apply your code to three examples:Apply your code to three examples:\n"
   ]
  },
  {
   "cell_type": "markdown",
   "metadata": {},
   "source": [
    "(1) Piano music: Beethoven - Für Elise (first 10 seconds)\n",
    "\n",
    "Questions: Inspect the FFT. You should see the distinct piano notes in the spectrum. Determine the frequencies of the\n",
    "highest three peaks. Determine which piano notes do these frequencies correspond to?\n",
    "What are the frequencies of the highest and lowest notes played?"
   ]
  },
  {
   "cell_type": "code",
   "execution_count": null,
   "metadata": {},
   "outputs": [],
   "source": [
    "music_analyse(\"../data/audio_files/Fur Elise.wav\");"
   ]
  },
  {
   "cell_type": "markdown",
   "metadata": {},
   "source": [
    "\n",
    "|Frequency (Hz)| Piano Notes|\n",
    "|--------------|------------|\n",
    "|     332      |     E4     |\n",
    "|     498      |     B4     |\n",
    "|     665      |     E5     |"
   ]
  },
  {
   "cell_type": "markdown",
   "metadata": {},
   "source": [
    "(2) Master KG - Jerusalema [Feat. Nomcebo] (first 10 seconds)\n",
    "Questions: Inspect the time domain and determine the period of the drum beat in seconds.\n",
    "How does the (dominant) drum beat appear in the frequency spectrum? Describe its features.\n",
    "How can you determine the fundamental frequency of the beat from inspection of the frequency spectrum?"
   ]
  },
  {
   "cell_type": "code",
   "execution_count": null,
   "metadata": {},
   "outputs": [],
   "source": [
    "music_analyse(\"../data/audio_files/Master KG - Jerusalema [Feat. Nomcebo].wav\");"
   ]
  },
  {
   "cell_type": "markdown",
   "metadata": {},
   "source": [
    "T = 0.3 seconds"
   ]
  },
  {
   "cell_type": "markdown",
   "metadata": {},
   "source": [
    "(3) A short recording of your own voice singing the chorus of Jerusalema (a capella).\n",
    "https://lyricstranslate.com/en/jerusalema-jerusalem.html-0\n",
    "Questions: Inspect the time domain and frequency spectrum. Describe significant features in time and frequency domains.\n",
    " How does the spectrum of your recording compare to (2)?"
   ]
  },
  {
   "cell_type": "markdown",
   "metadata": {},
   "source": [
    "¯\\\\_(ツ)_/¯ Sorry, I can't sing that well :("
   ]
  }
 ],
 "metadata": {
  "kernelspec": {
   "display_name": "Julia 1.4.1",
   "language": "julia",
   "name": "julia-1.4"
  },
  "language_info": {
   "file_extension": ".jl",
   "mimetype": "application/julia",
   "name": "julia",
   "version": "1.4.1"
  },
  "widgets": {
   "application/vnd.jupyter.widget-state+json": {
    "state": {},
    "version_major": 1,
    "version_minor": 0
   }
  }
 },
 "nbformat": 4,
 "nbformat_minor": 4
}
